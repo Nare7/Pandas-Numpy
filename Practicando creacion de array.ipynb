{
 "cells": [
  {
   "cell_type": "code",
   "execution_count": 1,
   "metadata": {},
   "outputs": [],
   "source": [
    "import numpy as np\n"
   ]
  },
  {
   "cell_type": "markdown",
   "metadata": {},
   "source": [
    "## Funcion de NumPy mas usada en el mundo de data scienece"
   ]
  },
  {
   "cell_type": "markdown",
   "metadata": {},
   "source": [
    "- creamos la cantidad **X** de filas y columnas, con valor **cero por defecto.**"
   ]
  },
  {
   "cell_type": "code",
   "execution_count": 8,
   "metadata": {},
   "outputs": [
    {
     "data": {
      "text/plain": [
       "array([[0., 0., 0., 0.],\n",
       "       [0., 0., 0., 0.]], dtype=float128)"
      ]
     },
     "execution_count": 8,
     "metadata": {},
     "output_type": "execute_result"
    }
   ],
   "source": [
    "my_list_3 = np.zeros(shape=(2,4), dtype=np.float128 )\n",
    "my_list_3"
   ]
  },
  {
   "cell_type": "markdown",
   "metadata": {},
   "source": []
  },
  {
   "cell_type": "markdown",
   "metadata": {},
   "source": [
    "- creamos la cantidad X de filas y columnas, con valor 1 por defecto"
   ]
  },
  {
   "cell_type": "code",
   "execution_count": 12,
   "metadata": {},
   "outputs": [
    {
     "data": {
      "text/plain": [
       "1.0"
      ]
     },
     "execution_count": 12,
     "metadata": {},
     "output_type": "execute_result"
    }
   ],
   "source": [
    "my_list_4 = np.ones(shape=(7, 5))\n",
    "my_list_4\n",
    "\n",
    "my_list_4[2, 3]"
   ]
  },
  {
   "cell_type": "markdown",
   "metadata": {},
   "source": []
  },
  {
   "cell_type": "code",
   "execution_count": 13,
   "metadata": {},
   "outputs": [
    {
     "data": {
      "text/plain": [
       "array([0. , 0.2, 0.4, 0.6, 0.8, 1. , 1.2, 1.4, 1.6, 1.8, 2. , 2.2, 2.4,\n",
       "       2.6, 2.8, 3. , 3.2, 3.4, 3.6, 3.8, 4. , 4.2, 4.4, 4.6, 4.8, 5. ,\n",
       "       5.2, 5.4, 5.6, 5.8, 6. , 6.2, 6.4, 6.6, 6.8, 7. , 7.2, 7.4, 7.6,\n",
       "       7.8, 8. , 8.2, 8.4, 8.6, 8.8, 9. , 9.2, 9.4, 9.6, 9.8])"
      ]
     },
     "execution_count": 13,
     "metadata": {},
     "output_type": "execute_result"
    }
   ],
   "source": [
    "my_list_5 = np.linspace(start=0, stop=10, num=50, endpoint=False, )\n",
    "my_list_5"
   ]
  },
  {
   "cell_type": "code",
   "execution_count": 5,
   "metadata": {},
   "outputs": [
    {
     "data": {
      "text/plain": [
       "array([[1., 0., 0., 0., 0., 0., 0.],\n",
       "       [0., 1., 0., 0., 0., 0., 0.],\n",
       "       [0., 0., 1., 0., 0., 0., 0.],\n",
       "       [0., 0., 0., 1., 0., 0., 0.]])"
      ]
     },
     "execution_count": 5,
     "metadata": {},
     "output_type": "execute_result"
    }
   ],
   "source": [
    "my_list_6 = np.eye(4,7) \n",
    "my_list_6"
   ]
  },
  {
   "cell_type": "markdown",
   "metadata": {},
   "source": [
    "## De forma **aleatoria** cramos **array** con su **propia estructura.**"
   ]
  },
  {
   "cell_type": "code",
   "execution_count": 6,
   "metadata": {},
   "outputs": [
    {
     "data": {
      "text/plain": [
       "array([3, 4, 1, 3])"
      ]
     },
     "execution_count": 6,
     "metadata": {},
     "output_type": "execute_result"
    }
   ],
   "source": [
    "array = np.random.randint(1, 7, (4,7))\n",
    "array[:, 0]\n"
   ]
  },
  {
   "cell_type": "code",
   "execution_count": 18,
   "metadata": {},
   "outputs": [
    {
     "data": {
      "text/plain": [
       "array([[[0.16135503, 0.77709836, 0.0761014 , 0.93542549, 0.77103417,\n",
       "         0.67228925, 0.19660759, 0.74915651, 0.61508001, 0.03923481,\n",
       "         0.15319975, 0.02100221, 0.04993921, 0.8263398 , 0.25268642,\n",
       "         0.80124927, 0.58922392, 0.56520014, 0.7233906 , 0.79111225,\n",
       "         0.29245502, 0.19597836],\n",
       "        [0.61279094, 0.44325661, 0.19382314, 0.80476557, 0.14298477,\n",
       "         0.30153418, 0.87664364, 0.408927  , 0.58459758, 0.31217675,\n",
       "         0.66227167, 0.47759064, 0.48173126, 0.04840225, 0.76849348,\n",
       "         0.88218562, 0.23284755, 0.12057797, 0.37641719, 0.65367969,\n",
       "         0.67726666, 0.5256753 ],\n",
       "        [0.69223184, 0.30020836, 0.44915668, 0.8421871 , 0.94070433,\n",
       "         0.57598344, 0.96142617, 0.65600367, 0.76982563, 0.91561229,\n",
       "         0.88244931, 0.20790536, 0.18377895, 0.3925403 , 0.63129909,\n",
       "         0.20597786, 0.10019197, 0.97649237, 0.23604712, 0.26080336,\n",
       "         0.19054573, 0.08768796],\n",
       "        [0.67029329, 0.06551756, 0.1933878 , 0.26093862, 0.75294437,\n",
       "         0.89471341, 0.61228321, 0.1612951 , 0.68220345, 0.97440406,\n",
       "         0.70187186, 0.44911163, 0.87504589, 0.55334225, 0.82487657,\n",
       "         0.74582708, 0.40196864, 0.84539321, 0.80457493, 0.2000548 ,\n",
       "         0.31713378, 0.13300321],\n",
       "        [0.85531541, 0.55983192, 0.02076768, 0.42286742, 0.7740437 ,\n",
       "         0.46115219, 0.79919864, 0.91628933, 0.29709021, 0.79805761,\n",
       "         0.27173687, 0.18654445, 0.03240635, 0.05169399, 0.14697332,\n",
       "         0.10018175, 0.64968417, 0.09860864, 0.7675401 , 0.06149242,\n",
       "         0.07872578, 0.75006319]]])"
      ]
     },
     "execution_count": 18,
     "metadata": {},
     "output_type": "execute_result"
    }
   ],
   "source": [
    "array = np.random.rand(1, 5, 22)\n",
    "array"
   ]
  },
  {
   "cell_type": "code",
   "execution_count": null,
   "metadata": {},
   "outputs": [],
   "source": []
  }
 ],
 "metadata": {
  "interpreter": {
   "hash": "92807969bafd98978ce1cea99dc0d2ddc098bfeea1314cb288cbb0b0a397b77d"
  },
  "kernelspec": {
   "display_name": "Python 3.10.4 ('numpy')",
   "language": "python",
   "name": "python3"
  },
  "language_info": {
   "codemirror_mode": {
    "name": "ipython",
    "version": 3
   },
   "file_extension": ".py",
   "mimetype": "text/x-python",
   "name": "python",
   "nbconvert_exporter": "python",
   "pygments_lexer": "ipython3",
   "version": "3.10.4"
  },
  "orig_nbformat": 4
 },
 "nbformat": 4,
 "nbformat_minor": 2
}
