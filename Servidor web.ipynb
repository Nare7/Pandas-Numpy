{
 "cells": [
  {
   "cell_type": "code",
   "execution_count": 1,
   "id": "2622367c",
   "metadata": {},
   "outputs": [],
   "source": [
    "import numpy as np"
   ]
  },
  {
   "cell_type": "markdown",
   "id": "98a53dbf",
   "metadata": {},
   "source": [
    "## Creando array"
   ]
  },
  {
   "cell_type": "code",
   "execution_count": 2,
   "id": "7a942369",
   "metadata": {},
   "outputs": [],
   "source": [
    "lista = np.arange(0,5)"
   ]
  },
  {
   "cell_type": "code",
   "execution_count": 3,
   "id": "496f9dfa",
   "metadata": {},
   "outputs": [
    {
     "data": {
      "text/plain": [
       "array([[[[[[[[[[0., 1., 2., 3., 4.]]]]]]]]]], dtype=float16)"
      ]
     },
     "execution_count": 3,
     "metadata": {},
     "output_type": "execute_result"
    }
   ],
   "source": [
    "arr = np.array(lista, dtype=np.float16, ndmin=10)\n",
    "arr"
   ]
  },
  {
   "cell_type": "markdown",
   "id": "099c074f",
   "metadata": {},
   "source": [
    "## Eliminando dimensinones de un array"
   ]
  },
  {
   "cell_type": "code",
   "execution_count": 4,
   "id": "84750e94",
   "metadata": {},
   "outputs": [
    {
     "data": {
      "text/plain": [
       "array([0., 1., 2., 3., 4.], dtype=float16)"
      ]
     },
     "execution_count": 4,
     "metadata": {},
     "output_type": "execute_result"
    }
   ],
   "source": [
    "arr = np.squeeze(arr)\n",
    "arr"
   ]
  },
  {
   "cell_type": "markdown",
   "id": "bb49d102",
   "metadata": {},
   "source": [
    "## Expandiendo array"
   ]
  },
  {
   "cell_type": "code",
   "execution_count": 5,
   "id": "4c682212",
   "metadata": {},
   "outputs": [
    {
     "data": {
      "text/plain": [
       "2"
      ]
     },
     "execution_count": 5,
     "metadata": {},
     "output_type": "execute_result"
    }
   ],
   "source": [
    "arr = np.expand_dims(np.array([1, 2, 3, 4, 5]), axis=1)\n",
    "arr.ndim"
   ]
  },
  {
   "cell_type": "code",
   "execution_count": 6,
   "id": "ac2b776d",
   "metadata": {},
   "outputs": [
    {
     "data": {
      "text/plain": [
       "(5, 1)"
      ]
     },
     "execution_count": 6,
     "metadata": {},
     "output_type": "execute_result"
    }
   ],
   "source": [
    "arr.shape"
   ]
  },
  {
   "cell_type": "code",
   "execution_count": 18,
   "id": "31b8393b",
   "metadata": {},
   "outputs": [
    {
     "ename": "TypeError",
     "evalue": "only integer scalar arrays can be converted to a scalar index",
     "output_type": "error",
     "traceback": [
      "\u001b[0;31m---------------------------------------------------------------------------\u001b[0m",
      "\u001b[0;31mTypeError\u001b[0m                                 Traceback (most recent call last)",
      "\u001b[1;32m/home/naren/Documentos/Manipulacion con Pandas Y NumPy/NumPy_and_pandas/Servidor web.ipynb Cell 10'\u001b[0m in \u001b[0;36m<cell line: 3>\u001b[0;34m()\u001b[0m\n\u001b[1;32m      <a href='vscode-notebook-cell:/home/naren/Documentos/Manipulacion%20con%20Pandas%20Y%20NumPy/NumPy_and_pandas/Servidor%20web.ipynb#ch0000009?line=0'>1</a>\u001b[0m arr\u001b[39m.\u001b[39mndim\n\u001b[1;32m      <a href='vscode-notebook-cell:/home/naren/Documentos/Manipulacion%20con%20Pandas%20Y%20NumPy/NumPy_and_pandas/Servidor%20web.ipynb#ch0000009?line=1'>2</a>\u001b[0m np\u001b[39m.\u001b[39msqueeze(arr)\n\u001b[0;32m----> <a href='vscode-notebook-cell:/home/naren/Documentos/Manipulacion%20con%20Pandas%20Y%20NumPy/NumPy_and_pandas/Servidor%20web.ipynb#ch0000009?line=2'>3</a>\u001b[0m arr\u001b[39m.\u001b[39;49mreshape(arr, (\u001b[39m1\u001b[39;49m,\u001b[39m5\u001b[39;49m), \u001b[39m\"\u001b[39;49m\u001b[39mC\u001b[39;49m\u001b[39m\"\u001b[39;49m)\n",
      "\u001b[0;31mTypeError\u001b[0m: only integer scalar arrays can be converted to a scalar index"
     ]
    }
   ],
   "source": [
    "arr.ndim\n",
    "np.squeeze(arr)\n",
    "arr.reshape(arr, (1,5), \"C\")\n"
   ]
  },
  {
   "cell_type": "code",
   "execution_count": null,
   "id": "e12173c1",
   "metadata": {},
   "outputs": [],
   "source": []
  }
 ],
 "metadata": {
  "interpreter": {
   "hash": "92807969bafd98978ce1cea99dc0d2ddc098bfeea1314cb288cbb0b0a397b77d"
  },
  "kernelspec": {
   "display_name": "Python 3.10.4 ('numpy')",
   "language": "python",
   "name": "python3"
  },
  "language_info": {
   "codemirror_mode": {
    "name": "ipython",
    "version": 3
   },
   "file_extension": ".py",
   "mimetype": "text/x-python",
   "name": "python",
   "nbconvert_exporter": "python",
   "pygments_lexer": "ipython3",
   "version": "3.10.4"
  }
 },
 "nbformat": 4,
 "nbformat_minor": 5
}
